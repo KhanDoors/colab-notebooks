{
  "nbformat": 4,
  "nbformat_minor": 0,
  "metadata": {
    "colab": {
      "provenance": [],
      "authorship_tag": "ABX9TyNNNDVHh/5hJ0dqwMlh29zx",
      "include_colab_link": true
    },
    "kernelspec": {
      "name": "python3",
      "display_name": "Python 3"
    },
    "language_info": {
      "name": "python"
    }
  },
  "cells": [
    {
      "cell_type": "markdown",
      "metadata": {
        "id": "view-in-github",
        "colab_type": "text"
      },
      "source": [
        "<a href=\"https://colab.research.google.com/github/KhanDoors/colab-notebooks/blob/main/functions101.ipynb\" target=\"_parent\"><img src=\"https://colab.research.google.com/assets/colab-badge.svg\" alt=\"Open In Colab\"/></a>"
      ]
    },
    {
      "cell_type": "markdown",
      "source": [
        "# Functions\n"
      ],
      "metadata": {
        "id": "-Sf9kGuTRVon"
      }
    },
    {
      "cell_type": "markdown",
      "source": [
        "### return vs. print"
      ],
      "metadata": {
        "id": "NMxCj2m-TIbw"
      }
    },
    {
      "cell_type": "code",
      "source": [
        "def hello():\n",
        "  print('hello')"
      ],
      "metadata": {
        "id": "DDPg92aCRbOZ"
      },
      "execution_count": 2,
      "outputs": []
    },
    {
      "cell_type": "code",
      "source": [
        "def hello2():\n",
        "  return 'hi'"
      ],
      "metadata": {
        "id": "Kxw2W1c_Szp-"
      },
      "execution_count": 9,
      "outputs": []
    },
    {
      "cell_type": "code",
      "source": [
        "hello()\n",
        "hello2()"
      ],
      "metadata": {
        "colab": {
          "base_uri": "https://localhost:8080/",
          "height": 53
        },
        "id": "mCzweUgMRotO",
        "outputId": "d262e9a1-96f6-4b43-bd0a-0e153b843240"
      },
      "execution_count": 10,
      "outputs": [
        {
          "output_type": "stream",
          "name": "stdout",
          "text": [
            "hello\n"
          ]
        },
        {
          "output_type": "execute_result",
          "data": {
            "text/plain": [
              "'hi'"
            ],
            "application/vnd.google.colaboratory.intrinsic+json": {
              "type": "string"
            }
          },
          "metadata": {},
          "execution_count": 10
        }
      ]
    },
    {
      "cell_type": "code",
      "source": [
        "hi = hello()\n",
        "hi2 = hello2()"
      ],
      "metadata": {
        "colab": {
          "base_uri": "https://localhost:8080/"
        },
        "id": "HYck1Gc1SP3q",
        "outputId": "b5526acc-570c-4cda-8161-aaf7385cfaa8"
      },
      "execution_count": 11,
      "outputs": [
        {
          "output_type": "stream",
          "name": "stdout",
          "text": [
            "hello\n"
          ]
        }
      ]
    },
    {
      "cell_type": "code",
      "source": [
        "hi"
      ],
      "metadata": {
        "id": "BIKMrdjjSjnW"
      },
      "execution_count": 12,
      "outputs": []
    },
    {
      "cell_type": "code",
      "source": [
        "hi2"
      ],
      "metadata": {
        "colab": {
          "base_uri": "https://localhost:8080/",
          "height": 35
        },
        "id": "VPl-xDWVSl8l",
        "outputId": "a0ee89e0-b040-4890-f9e0-9d8ea10824d0"
      },
      "execution_count": 13,
      "outputs": [
        {
          "output_type": "execute_result",
          "data": {
            "text/plain": [
              "'hi'"
            ],
            "application/vnd.google.colaboratory.intrinsic+json": {
              "type": "string"
            }
          },
          "metadata": {},
          "execution_count": 13
        }
      ]
    },
    {
      "cell_type": "markdown",
      "source": [
        "### in essence what a function does"
      ],
      "metadata": {
        "id": "L-j_DqABUEXj"
      }
    },
    {
      "cell_type": "code",
      "source": [
        "def hello3(name):\n",
        "  return f'hi {name}'"
      ],
      "metadata": {
        "id": "Xv4UcV9xTF57"
      },
      "execution_count": 14,
      "outputs": []
    },
    {
      "cell_type": "code",
      "source": [
        "hi3 = hello3('john')"
      ],
      "metadata": {
        "id": "UANEABZkT7Bb"
      },
      "execution_count": 15,
      "outputs": []
    },
    {
      "cell_type": "code",
      "source": [
        "hi3"
      ],
      "metadata": {
        "colab": {
          "base_uri": "https://localhost:8080/",
          "height": 35
        },
        "id": "i9a-ZqAJUBHz",
        "outputId": "9d9885d9-3684-49cc-a521-e387572658d9"
      },
      "execution_count": 16,
      "outputs": [
        {
          "output_type": "execute_result",
          "data": {
            "text/plain": [
              "'hi john'"
            ],
            "application/vnd.google.colaboratory.intrinsic+json": {
              "type": "string"
            }
          },
          "metadata": {},
          "execution_count": 16
        }
      ]
    },
    {
      "cell_type": "code",
      "source": [],
      "metadata": {
        "id": "jgdf3LI6UCeE"
      },
      "execution_count": null,
      "outputs": []
    }
  ]
}