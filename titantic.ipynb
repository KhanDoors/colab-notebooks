{
  "nbformat": 4,
  "nbformat_minor": 0,
  "metadata": {
    "colab": {
      "name": "titantic.ipynb",
      "provenance": [],
      "authorship_tag": "ABX9TyODCv+SHkCbvfrymSL7oO5w",
      "include_colab_link": true
    },
    "kernelspec": {
      "name": "python3",
      "display_name": "Python 3"
    },
    "language_info": {
      "name": "python"
    }
  },
  "cells": [
    {
      "cell_type": "markdown",
      "metadata": {
        "id": "view-in-github",
        "colab_type": "text"
      },
      "source": [
        "<a href=\"https://colab.research.google.com/github/KhanDoors/colab-notebooks/blob/main/titantic.ipynb\" target=\"_parent\"><img src=\"https://colab.research.google.com/assets/colab-badge.svg\" alt=\"Open In Colab\"/></a>"
      ]
    },
    {
      "cell_type": "code",
      "source": [
        "!apt-get install openjdk-8-jdk-headless -qq > /dev/null\n",
        "!wget -q http://archive.apache.org/dist/spark/spark-3.1.1/spark-3.1.1-bin-hadoop3.2.tgz\n",
        "!tar xf spark-3.1.1-bin-hadoop3.2.tgz\n",
        "!pip install -q findspark"
      ],
      "metadata": {
        "id": "ZDxQWl8M3OmW"
      },
      "execution_count": null,
      "outputs": []
    },
    {
      "cell_type": "code",
      "source": [
        "import os\n",
        "os.environ[\"JAVA_HOME\"] = \"/usr/lib/jvm/java-8-openjdk-amd64\"\n",
        "os.environ[\"SPARK_HOME\"] = \"/content/spark-3.1.1-bin-hadoop3.2\""
      ],
      "metadata": {
        "id": "icRuEhiT4iKJ"
      },
      "execution_count": null,
      "outputs": []
    },
    {
      "cell_type": "code",
      "source": [
        "import findspark\n",
        "findspark.init()\n",
        "from pyspark.sql import SparkSession\n",
        "spark = SparkSession.builder.master(\"local[*]\").getOrCreate()\n",
        "spark.conf.set(\"spark.sql.repl.eagerEval.enabled\", True) # Property used to format output tables better\n",
        "spark"
      ],
      "metadata": {
        "colab": {
          "base_uri": "https://localhost:8080/",
          "height": 222
        },
        "id": "s7nZDFvO4jyR",
        "outputId": "89661488-db22-4055-b4ac-8ee1ea8872f3"
      },
      "execution_count": null,
      "outputs": [
        {
          "output_type": "execute_result",
          "data": {
            "text/plain": [
              "<pyspark.sql.session.SparkSession at 0x7ff27faf6510>"
            ],
            "text/html": [
              "\n",
              "            <div>\n",
              "                <p><b>SparkSession - in-memory</b></p>\n",
              "                \n",
              "        <div>\n",
              "            <p><b>SparkContext</b></p>\n",
              "\n",
              "            <p><a href=\"http://019de6f3c72f:4040\">Spark UI</a></p>\n",
              "\n",
              "            <dl>\n",
              "              <dt>Version</dt>\n",
              "                <dd><code>v3.1.1</code></dd>\n",
              "              <dt>Master</dt>\n",
              "                <dd><code>local[*]</code></dd>\n",
              "              <dt>AppName</dt>\n",
              "                <dd><code>pyspark-shell</code></dd>\n",
              "            </dl>\n",
              "        </div>\n",
              "        \n",
              "            </div>\n",
              "        "
            ]
          },
          "metadata": {},
          "execution_count": 5
        }
      ]
    },
    {
      "cell_type": "code",
      "source": [
        "# Load the csv into a dataframe\n",
        "titanic_df = spark.read.csv(\"train.csv\", header=True, inferSchema=True)\n",
        "titanic_df"
      ],
      "metadata": {
        "colab": {
          "base_uri": "https://localhost:8080/",
          "height": 529
        },
        "id": "63RLA4g14uZj",
        "outputId": "c7f5d138-c28b-4757-8cba-ce1f7b404ba3"
      },
      "execution_count": null,
      "outputs": [
        {
          "output_type": "execute_result",
          "data": {
            "text/plain": [
              "+-----------+----+-------+---+-----+-----+-----+-----+-----+-----+------+------+-----+------+------+------+------+------+------+------+------+------+------+------+--------+------+------+--------+\n",
              "|Passengerid| Age|   Fare|Sex|sibsp|zero5|zero6|zero7|zero8|zero9|zero10|zero11|Parch|zero13|zero14|zero15|zero16|zero17|zero18|zero19|zero20|Pclass|zero22|zero23|Embarked|zero25|zero26|2urvived|\n",
              "+-----------+----+-------+---+-----+-----+-----+-----+-----+-----+------+------+-----+------+------+------+------+------+------+------+------+------+------+------+--------+------+------+--------+\n",
              "|          1|22.0|   7.25|  0|    1|    0|    0|    0|    0|    0|     0|     0|    0|     0|     0|     0|     0|     0|     0|     0|     0|     3|     0|     0|       2|     0|     0|       0|\n",
              "|          2|38.0|71.2833|  1|    1|    0|    0|    0|    0|    0|     0|     0|    0|     0|     0|     0|     0|     0|     0|     0|     0|     1|     0|     0|       0|     0|     0|       1|\n",
              "|          3|26.0|  7.925|  1|    0|    0|    0|    0|    0|    0|     0|     0|    0|     0|     0|     0|     0|     0|     0|     0|     0|     3|     0|     0|       2|     0|     0|       1|\n",
              "|          4|35.0|   53.1|  1|    1|    0|    0|    0|    0|    0|     0|     0|    0|     0|     0|     0|     0|     0|     0|     0|     0|     1|     0|     0|       2|     0|     0|       1|\n",
              "|          5|35.0|   8.05|  0|    0|    0|    0|    0|    0|    0|     0|     0|    0|     0|     0|     0|     0|     0|     0|     0|     0|     3|     0|     0|       2|     0|     0|       0|\n",
              "|          6|28.0| 8.4583|  0|    0|    0|    0|    0|    0|    0|     0|     0|    0|     0|     0|     0|     0|     0|     0|     0|     0|     3|     0|     0|       1|     0|     0|       0|\n",
              "|          7|54.0|51.8625|  0|    0|    0|    0|    0|    0|    0|     0|     0|    0|     0|     0|     0|     0|     0|     0|     0|     0|     1|     0|     0|       2|     0|     0|       0|\n",
              "|          8| 2.0| 21.075|  0|    3|    0|    0|    0|    0|    0|     0|     0|    1|     0|     0|     0|     0|     0|     0|     0|     0|     3|     0|     0|       2|     0|     0|       0|\n",
              "|          9|27.0|11.1333|  1|    0|    0|    0|    0|    0|    0|     0|     0|    2|     0|     0|     0|     0|     0|     0|     0|     0|     3|     0|     0|       2|     0|     0|       1|\n",
              "|         10|14.0|30.0708|  1|    1|    0|    0|    0|    0|    0|     0|     0|    0|     0|     0|     0|     0|     0|     0|     0|     0|     2|     0|     0|       0|     0|     0|       1|\n",
              "|         11| 4.0|   16.7|  1|    1|    0|    0|    0|    0|    0|     0|     0|    1|     0|     0|     0|     0|     0|     0|     0|     0|     3|     0|     0|       2|     0|     0|       1|\n",
              "|         12|58.0|  26.55|  1|    0|    0|    0|    0|    0|    0|     0|     0|    0|     0|     0|     0|     0|     0|     0|     0|     0|     1|     0|     0|       2|     0|     0|       1|\n",
              "|         13|20.0|   8.05|  0|    0|    0|    0|    0|    0|    0|     0|     0|    0|     0|     0|     0|     0|     0|     0|     0|     0|     3|     0|     0|       2|     0|     0|       0|\n",
              "|         14|39.0| 31.275|  0|    1|    0|    0|    0|    0|    0|     0|     0|    5|     0|     0|     0|     0|     0|     0|     0|     0|     3|     0|     0|       2|     0|     0|       0|\n",
              "|         15|14.0| 7.8542|  1|    0|    0|    0|    0|    0|    0|     0|     0|    0|     0|     0|     0|     0|     0|     0|     0|     0|     3|     0|     0|       2|     0|     0|       0|\n",
              "|         16|55.0|   16.0|  1|    0|    0|    0|    0|    0|    0|     0|     0|    0|     0|     0|     0|     0|     0|     0|     0|     0|     2|     0|     0|       2|     0|     0|       1|\n",
              "|         17| 2.0| 29.125|  0|    4|    0|    0|    0|    0|    0|     0|     0|    1|     0|     0|     0|     0|     0|     0|     0|     0|     3|     0|     0|       1|     0|     0|       0|\n",
              "|         18|28.0|   13.0|  0|    0|    0|    0|    0|    0|    0|     0|     0|    0|     0|     0|     0|     0|     0|     0|     0|     0|     2|     0|     0|       2|     0|     0|       1|\n",
              "|         19|31.0|   18.0|  1|    1|    0|    0|    0|    0|    0|     0|     0|    0|     0|     0|     0|     0|     0|     0|     0|     0|     3|     0|     0|       2|     0|     0|       0|\n",
              "|         20|28.0|  7.225|  1|    0|    0|    0|    0|    0|    0|     0|     0|    0|     0|     0|     0|     0|     0|     0|     0|     0|     3|     0|     0|       0|     0|     0|       1|\n",
              "+-----------+----+-------+---+-----+-----+-----+-----+-----+-----+------+------+-----+------+------+------+------+------+------+------+------+------+------+------+--------+------+------+--------+\n",
              "only showing top 20 rows"
            ],
            "text/html": [
              "<table border='1'>\n",
              "<tr><th>Passengerid</th><th>Age</th><th>Fare</th><th>Sex</th><th>sibsp</th><th>zero5</th><th>zero6</th><th>zero7</th><th>zero8</th><th>zero9</th><th>zero10</th><th>zero11</th><th>Parch</th><th>zero13</th><th>zero14</th><th>zero15</th><th>zero16</th><th>zero17</th><th>zero18</th><th>zero19</th><th>zero20</th><th>Pclass</th><th>zero22</th><th>zero23</th><th>Embarked</th><th>zero25</th><th>zero26</th><th>2urvived</th></tr>\n",
              "<tr><td>1</td><td>22.0</td><td>7.25</td><td>0</td><td>1</td><td>0</td><td>0</td><td>0</td><td>0</td><td>0</td><td>0</td><td>0</td><td>0</td><td>0</td><td>0</td><td>0</td><td>0</td><td>0</td><td>0</td><td>0</td><td>0</td><td>3</td><td>0</td><td>0</td><td>2</td><td>0</td><td>0</td><td>0</td></tr>\n",
              "<tr><td>2</td><td>38.0</td><td>71.2833</td><td>1</td><td>1</td><td>0</td><td>0</td><td>0</td><td>0</td><td>0</td><td>0</td><td>0</td><td>0</td><td>0</td><td>0</td><td>0</td><td>0</td><td>0</td><td>0</td><td>0</td><td>0</td><td>1</td><td>0</td><td>0</td><td>0</td><td>0</td><td>0</td><td>1</td></tr>\n",
              "<tr><td>3</td><td>26.0</td><td>7.925</td><td>1</td><td>0</td><td>0</td><td>0</td><td>0</td><td>0</td><td>0</td><td>0</td><td>0</td><td>0</td><td>0</td><td>0</td><td>0</td><td>0</td><td>0</td><td>0</td><td>0</td><td>0</td><td>3</td><td>0</td><td>0</td><td>2</td><td>0</td><td>0</td><td>1</td></tr>\n",
              "<tr><td>4</td><td>35.0</td><td>53.1</td><td>1</td><td>1</td><td>0</td><td>0</td><td>0</td><td>0</td><td>0</td><td>0</td><td>0</td><td>0</td><td>0</td><td>0</td><td>0</td><td>0</td><td>0</td><td>0</td><td>0</td><td>0</td><td>1</td><td>0</td><td>0</td><td>2</td><td>0</td><td>0</td><td>1</td></tr>\n",
              "<tr><td>5</td><td>35.0</td><td>8.05</td><td>0</td><td>0</td><td>0</td><td>0</td><td>0</td><td>0</td><td>0</td><td>0</td><td>0</td><td>0</td><td>0</td><td>0</td><td>0</td><td>0</td><td>0</td><td>0</td><td>0</td><td>0</td><td>3</td><td>0</td><td>0</td><td>2</td><td>0</td><td>0</td><td>0</td></tr>\n",
              "<tr><td>6</td><td>28.0</td><td>8.4583</td><td>0</td><td>0</td><td>0</td><td>0</td><td>0</td><td>0</td><td>0</td><td>0</td><td>0</td><td>0</td><td>0</td><td>0</td><td>0</td><td>0</td><td>0</td><td>0</td><td>0</td><td>0</td><td>3</td><td>0</td><td>0</td><td>1</td><td>0</td><td>0</td><td>0</td></tr>\n",
              "<tr><td>7</td><td>54.0</td><td>51.8625</td><td>0</td><td>0</td><td>0</td><td>0</td><td>0</td><td>0</td><td>0</td><td>0</td><td>0</td><td>0</td><td>0</td><td>0</td><td>0</td><td>0</td><td>0</td><td>0</td><td>0</td><td>0</td><td>1</td><td>0</td><td>0</td><td>2</td><td>0</td><td>0</td><td>0</td></tr>\n",
              "<tr><td>8</td><td>2.0</td><td>21.075</td><td>0</td><td>3</td><td>0</td><td>0</td><td>0</td><td>0</td><td>0</td><td>0</td><td>0</td><td>1</td><td>0</td><td>0</td><td>0</td><td>0</td><td>0</td><td>0</td><td>0</td><td>0</td><td>3</td><td>0</td><td>0</td><td>2</td><td>0</td><td>0</td><td>0</td></tr>\n",
              "<tr><td>9</td><td>27.0</td><td>11.1333</td><td>1</td><td>0</td><td>0</td><td>0</td><td>0</td><td>0</td><td>0</td><td>0</td><td>0</td><td>2</td><td>0</td><td>0</td><td>0</td><td>0</td><td>0</td><td>0</td><td>0</td><td>0</td><td>3</td><td>0</td><td>0</td><td>2</td><td>0</td><td>0</td><td>1</td></tr>\n",
              "<tr><td>10</td><td>14.0</td><td>30.0708</td><td>1</td><td>1</td><td>0</td><td>0</td><td>0</td><td>0</td><td>0</td><td>0</td><td>0</td><td>0</td><td>0</td><td>0</td><td>0</td><td>0</td><td>0</td><td>0</td><td>0</td><td>0</td><td>2</td><td>0</td><td>0</td><td>0</td><td>0</td><td>0</td><td>1</td></tr>\n",
              "<tr><td>11</td><td>4.0</td><td>16.7</td><td>1</td><td>1</td><td>0</td><td>0</td><td>0</td><td>0</td><td>0</td><td>0</td><td>0</td><td>1</td><td>0</td><td>0</td><td>0</td><td>0</td><td>0</td><td>0</td><td>0</td><td>0</td><td>3</td><td>0</td><td>0</td><td>2</td><td>0</td><td>0</td><td>1</td></tr>\n",
              "<tr><td>12</td><td>58.0</td><td>26.55</td><td>1</td><td>0</td><td>0</td><td>0</td><td>0</td><td>0</td><td>0</td><td>0</td><td>0</td><td>0</td><td>0</td><td>0</td><td>0</td><td>0</td><td>0</td><td>0</td><td>0</td><td>0</td><td>1</td><td>0</td><td>0</td><td>2</td><td>0</td><td>0</td><td>1</td></tr>\n",
              "<tr><td>13</td><td>20.0</td><td>8.05</td><td>0</td><td>0</td><td>0</td><td>0</td><td>0</td><td>0</td><td>0</td><td>0</td><td>0</td><td>0</td><td>0</td><td>0</td><td>0</td><td>0</td><td>0</td><td>0</td><td>0</td><td>0</td><td>3</td><td>0</td><td>0</td><td>2</td><td>0</td><td>0</td><td>0</td></tr>\n",
              "<tr><td>14</td><td>39.0</td><td>31.275</td><td>0</td><td>1</td><td>0</td><td>0</td><td>0</td><td>0</td><td>0</td><td>0</td><td>0</td><td>5</td><td>0</td><td>0</td><td>0</td><td>0</td><td>0</td><td>0</td><td>0</td><td>0</td><td>3</td><td>0</td><td>0</td><td>2</td><td>0</td><td>0</td><td>0</td></tr>\n",
              "<tr><td>15</td><td>14.0</td><td>7.8542</td><td>1</td><td>0</td><td>0</td><td>0</td><td>0</td><td>0</td><td>0</td><td>0</td><td>0</td><td>0</td><td>0</td><td>0</td><td>0</td><td>0</td><td>0</td><td>0</td><td>0</td><td>0</td><td>3</td><td>0</td><td>0</td><td>2</td><td>0</td><td>0</td><td>0</td></tr>\n",
              "<tr><td>16</td><td>55.0</td><td>16.0</td><td>1</td><td>0</td><td>0</td><td>0</td><td>0</td><td>0</td><td>0</td><td>0</td><td>0</td><td>0</td><td>0</td><td>0</td><td>0</td><td>0</td><td>0</td><td>0</td><td>0</td><td>0</td><td>2</td><td>0</td><td>0</td><td>2</td><td>0</td><td>0</td><td>1</td></tr>\n",
              "<tr><td>17</td><td>2.0</td><td>29.125</td><td>0</td><td>4</td><td>0</td><td>0</td><td>0</td><td>0</td><td>0</td><td>0</td><td>0</td><td>1</td><td>0</td><td>0</td><td>0</td><td>0</td><td>0</td><td>0</td><td>0</td><td>0</td><td>3</td><td>0</td><td>0</td><td>1</td><td>0</td><td>0</td><td>0</td></tr>\n",
              "<tr><td>18</td><td>28.0</td><td>13.0</td><td>0</td><td>0</td><td>0</td><td>0</td><td>0</td><td>0</td><td>0</td><td>0</td><td>0</td><td>0</td><td>0</td><td>0</td><td>0</td><td>0</td><td>0</td><td>0</td><td>0</td><td>0</td><td>2</td><td>0</td><td>0</td><td>2</td><td>0</td><td>0</td><td>1</td></tr>\n",
              "<tr><td>19</td><td>31.0</td><td>18.0</td><td>1</td><td>1</td><td>0</td><td>0</td><td>0</td><td>0</td><td>0</td><td>0</td><td>0</td><td>0</td><td>0</td><td>0</td><td>0</td><td>0</td><td>0</td><td>0</td><td>0</td><td>0</td><td>3</td><td>0</td><td>0</td><td>2</td><td>0</td><td>0</td><td>0</td></tr>\n",
              "<tr><td>20</td><td>28.0</td><td>7.225</td><td>1</td><td>0</td><td>0</td><td>0</td><td>0</td><td>0</td><td>0</td><td>0</td><td>0</td><td>0</td><td>0</td><td>0</td><td>0</td><td>0</td><td>0</td><td>0</td><td>0</td><td>0</td><td>3</td><td>0</td><td>0</td><td>0</td><td>0</td><td>0</td><td>1</td></tr>\n",
              "</table>\n",
              "only showing top 20 rows\n"
            ]
          },
          "metadata": {},
          "execution_count": 7
        }
      ]
    },
    {
      "cell_type": "code",
      "source": [
        "titanic_df.printSchema()"
      ],
      "metadata": {
        "colab": {
          "base_uri": "https://localhost:8080/"
        },
        "id": "HiagMcuC4ui_",
        "outputId": "ebbf501a-3491-4745-90a8-c2f07d3bd77b"
      },
      "execution_count": null,
      "outputs": [
        {
          "output_type": "stream",
          "name": "stdout",
          "text": [
            "root\n",
            " |-- Passengerid: integer (nullable = true)\n",
            " |-- Age: double (nullable = true)\n",
            " |-- Fare: double (nullable = true)\n",
            " |-- Sex: integer (nullable = true)\n",
            " |-- sibsp: integer (nullable = true)\n",
            " |-- zero5: integer (nullable = true)\n",
            " |-- zero6: integer (nullable = true)\n",
            " |-- zero7: integer (nullable = true)\n",
            " |-- zero8: integer (nullable = true)\n",
            " |-- zero9: integer (nullable = true)\n",
            " |-- zero10: integer (nullable = true)\n",
            " |-- zero11: integer (nullable = true)\n",
            " |-- Parch: integer (nullable = true)\n",
            " |-- zero13: integer (nullable = true)\n",
            " |-- zero14: integer (nullable = true)\n",
            " |-- zero15: integer (nullable = true)\n",
            " |-- zero16: integer (nullable = true)\n",
            " |-- zero17: integer (nullable = true)\n",
            " |-- zero18: integer (nullable = true)\n",
            " |-- zero19: integer (nullable = true)\n",
            " |-- zero20: integer (nullable = true)\n",
            " |-- Pclass: integer (nullable = true)\n",
            " |-- zero22: integer (nullable = true)\n",
            " |-- zero23: integer (nullable = true)\n",
            " |-- Embarked: integer (nullable = true)\n",
            " |-- zero25: integer (nullable = true)\n",
            " |-- zero26: integer (nullable = true)\n",
            " |-- 2urvived: integer (nullable = true)\n",
            "\n"
          ]
        }
      ]
    },
    {
      "cell_type": "code",
      "source": [
        "from pyspark.sql.functions import col\n"
      ],
      "metadata": {
        "id": "WmLTaAMS9T10"
      },
      "execution_count": null,
      "outputs": []
    },
    {
      "cell_type": "code",
      "source": [
        "cols=(\"zero5\",\"zero6\",\"zero7\",\"zero8\",\"zero9\",\"zero10\",\"zero11\",\"zero13\",\"zero14\",\"zero15\",\"zero16\",\"zero17\",\"zero18\",\"zero19\",\"zero20\", \"zero22\",\"zero23\", \"zero25\",\"zero26\")"
      ],
      "metadata": {
        "id": "I_oHPXma9T_8"
      },
      "execution_count": null,
      "outputs": []
    },
    {
      "cell_type": "code",
      "source": [
        "cleaned_df=titanic_df.drop(*cols)"
      ],
      "metadata": {
        "id": "Ze7JIUre9UDj"
      },
      "execution_count": null,
      "outputs": []
    },
    {
      "cell_type": "code",
      "source": [
        "cleaned_df.show()"
      ],
      "metadata": {
        "colab": {
          "base_uri": "https://localhost:8080/"
        },
        "id": "L_6_-gyq9UGs",
        "outputId": "c635173b-2e25-4868-b167-912476ddd6ab"
      },
      "execution_count": null,
      "outputs": [
        {
          "output_type": "stream",
          "name": "stdout",
          "text": [
            "+-----------+----+-------+---+-----+-----+------+--------+--------+\n",
            "|Passengerid| Age|   Fare|Sex|sibsp|Parch|Pclass|Embarked|2urvived|\n",
            "+-----------+----+-------+---+-----+-----+------+--------+--------+\n",
            "|          1|22.0|   7.25|  0|    1|    0|     3|       2|       0|\n",
            "|          2|38.0|71.2833|  1|    1|    0|     1|       0|       1|\n",
            "|          3|26.0|  7.925|  1|    0|    0|     3|       2|       1|\n",
            "|          4|35.0|   53.1|  1|    1|    0|     1|       2|       1|\n",
            "|          5|35.0|   8.05|  0|    0|    0|     3|       2|       0|\n",
            "|          6|28.0| 8.4583|  0|    0|    0|     3|       1|       0|\n",
            "|          7|54.0|51.8625|  0|    0|    0|     1|       2|       0|\n",
            "|          8| 2.0| 21.075|  0|    3|    1|     3|       2|       0|\n",
            "|          9|27.0|11.1333|  1|    0|    2|     3|       2|       1|\n",
            "|         10|14.0|30.0708|  1|    1|    0|     2|       0|       1|\n",
            "|         11| 4.0|   16.7|  1|    1|    1|     3|       2|       1|\n",
            "|         12|58.0|  26.55|  1|    0|    0|     1|       2|       1|\n",
            "|         13|20.0|   8.05|  0|    0|    0|     3|       2|       0|\n",
            "|         14|39.0| 31.275|  0|    1|    5|     3|       2|       0|\n",
            "|         15|14.0| 7.8542|  1|    0|    0|     3|       2|       0|\n",
            "|         16|55.0|   16.0|  1|    0|    0|     2|       2|       1|\n",
            "|         17| 2.0| 29.125|  0|    4|    1|     3|       1|       0|\n",
            "|         18|28.0|   13.0|  0|    0|    0|     2|       2|       1|\n",
            "|         19|31.0|   18.0|  1|    1|    0|     3|       2|       0|\n",
            "|         20|28.0|  7.225|  1|    0|    0|     3|       0|       1|\n",
            "+-----------+----+-------+---+-----+-----+------+--------+--------+\n",
            "only showing top 20 rows\n",
            "\n"
          ]
        }
      ]
    },
    {
      "cell_type": "code",
      "source": [
        "cleaned_df.where(cleaned_df.Age>25)"
      ],
      "metadata": {
        "colab": {
          "base_uri": "https://localhost:8080/",
          "height": 529
        },
        "id": "CUbnC_biAIod",
        "outputId": "e5f869a6-a5f9-4c26-f95d-a75f842fa86a"
      },
      "execution_count": null,
      "outputs": [
        {
          "output_type": "execute_result",
          "data": {
            "text/plain": [
              "+-----------+----+-------+---+-----+-----+------+--------+--------+\n",
              "|Passengerid| Age|   Fare|Sex|sibsp|Parch|Pclass|Embarked|2urvived|\n",
              "+-----------+----+-------+---+-----+-----+------+--------+--------+\n",
              "|          2|38.0|71.2833|  1|    1|    0|     1|       0|       1|\n",
              "|          3|26.0|  7.925|  1|    0|    0|     3|       2|       1|\n",
              "|          4|35.0|   53.1|  1|    1|    0|     1|       2|       1|\n",
              "|          5|35.0|   8.05|  0|    0|    0|     3|       2|       0|\n",
              "|          6|28.0| 8.4583|  0|    0|    0|     3|       1|       0|\n",
              "|          7|54.0|51.8625|  0|    0|    0|     1|       2|       0|\n",
              "|          9|27.0|11.1333|  1|    0|    2|     3|       2|       1|\n",
              "|         12|58.0|  26.55|  1|    0|    0|     1|       2|       1|\n",
              "|         14|39.0| 31.275|  0|    1|    5|     3|       2|       0|\n",
              "|         16|55.0|   16.0|  1|    0|    0|     2|       2|       1|\n",
              "|         18|28.0|   13.0|  0|    0|    0|     2|       2|       1|\n",
              "|         19|31.0|   18.0|  1|    1|    0|     3|       2|       0|\n",
              "|         20|28.0|  7.225|  1|    0|    0|     3|       0|       1|\n",
              "|         21|35.0|   26.0|  0|    0|    0|     2|       2|       0|\n",
              "|         22|34.0|   13.0|  0|    0|    0|     2|       2|       1|\n",
              "|         24|28.0|   35.5|  0|    0|    0|     1|       2|       1|\n",
              "|         26|38.0|31.3875|  1|    1|    5|     3|       2|       1|\n",
              "|         27|28.0|  7.225|  0|    0|    0|     3|       0|       0|\n",
              "|         29|28.0| 7.8792|  1|    0|    0|     3|       1|       1|\n",
              "|         30|28.0| 7.8958|  0|    0|    0|     3|       2|       0|\n",
              "+-----------+----+-------+---+-----+-----+------+--------+--------+\n",
              "only showing top 20 rows"
            ],
            "text/html": [
              "<table border='1'>\n",
              "<tr><th>Passengerid</th><th>Age</th><th>Fare</th><th>Sex</th><th>sibsp</th><th>Parch</th><th>Pclass</th><th>Embarked</th><th>2urvived</th></tr>\n",
              "<tr><td>2</td><td>38.0</td><td>71.2833</td><td>1</td><td>1</td><td>0</td><td>1</td><td>0</td><td>1</td></tr>\n",
              "<tr><td>3</td><td>26.0</td><td>7.925</td><td>1</td><td>0</td><td>0</td><td>3</td><td>2</td><td>1</td></tr>\n",
              "<tr><td>4</td><td>35.0</td><td>53.1</td><td>1</td><td>1</td><td>0</td><td>1</td><td>2</td><td>1</td></tr>\n",
              "<tr><td>5</td><td>35.0</td><td>8.05</td><td>0</td><td>0</td><td>0</td><td>3</td><td>2</td><td>0</td></tr>\n",
              "<tr><td>6</td><td>28.0</td><td>8.4583</td><td>0</td><td>0</td><td>0</td><td>3</td><td>1</td><td>0</td></tr>\n",
              "<tr><td>7</td><td>54.0</td><td>51.8625</td><td>0</td><td>0</td><td>0</td><td>1</td><td>2</td><td>0</td></tr>\n",
              "<tr><td>9</td><td>27.0</td><td>11.1333</td><td>1</td><td>0</td><td>2</td><td>3</td><td>2</td><td>1</td></tr>\n",
              "<tr><td>12</td><td>58.0</td><td>26.55</td><td>1</td><td>0</td><td>0</td><td>1</td><td>2</td><td>1</td></tr>\n",
              "<tr><td>14</td><td>39.0</td><td>31.275</td><td>0</td><td>1</td><td>5</td><td>3</td><td>2</td><td>0</td></tr>\n",
              "<tr><td>16</td><td>55.0</td><td>16.0</td><td>1</td><td>0</td><td>0</td><td>2</td><td>2</td><td>1</td></tr>\n",
              "<tr><td>18</td><td>28.0</td><td>13.0</td><td>0</td><td>0</td><td>0</td><td>2</td><td>2</td><td>1</td></tr>\n",
              "<tr><td>19</td><td>31.0</td><td>18.0</td><td>1</td><td>1</td><td>0</td><td>3</td><td>2</td><td>0</td></tr>\n",
              "<tr><td>20</td><td>28.0</td><td>7.225</td><td>1</td><td>0</td><td>0</td><td>3</td><td>0</td><td>1</td></tr>\n",
              "<tr><td>21</td><td>35.0</td><td>26.0</td><td>0</td><td>0</td><td>0</td><td>2</td><td>2</td><td>0</td></tr>\n",
              "<tr><td>22</td><td>34.0</td><td>13.0</td><td>0</td><td>0</td><td>0</td><td>2</td><td>2</td><td>1</td></tr>\n",
              "<tr><td>24</td><td>28.0</td><td>35.5</td><td>0</td><td>0</td><td>0</td><td>1</td><td>2</td><td>1</td></tr>\n",
              "<tr><td>26</td><td>38.0</td><td>31.3875</td><td>1</td><td>1</td><td>5</td><td>3</td><td>2</td><td>1</td></tr>\n",
              "<tr><td>27</td><td>28.0</td><td>7.225</td><td>0</td><td>0</td><td>0</td><td>3</td><td>0</td><td>0</td></tr>\n",
              "<tr><td>29</td><td>28.0</td><td>7.8792</td><td>1</td><td>0</td><td>0</td><td>3</td><td>1</td><td>1</td></tr>\n",
              "<tr><td>30</td><td>28.0</td><td>7.8958</td><td>0</td><td>0</td><td>0</td><td>3</td><td>2</td><td>0</td></tr>\n",
              "</table>\n",
              "only showing top 20 rows\n"
            ]
          },
          "metadata": {},
          "execution_count": 21
        }
      ]
    },
    {
      "cell_type": "code",
      "source": [
        ""
      ],
      "metadata": {
        "id": "-I59KBB5AIr-"
      },
      "execution_count": null,
      "outputs": []
    },
    {
      "cell_type": "code",
      "source": [
        ""
      ],
      "metadata": {
        "id": "eRWwMeMiAIvd"
      },
      "execution_count": null,
      "outputs": []
    }
  ]
}